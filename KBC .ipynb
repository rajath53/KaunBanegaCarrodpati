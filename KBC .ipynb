{
 "cells": [
  {
   "cell_type": "code",
   "execution_count": 1,
   "id": "6de51f18",
   "metadata": {},
   "outputs": [],
   "source": [
    "import random"
   ]
  },
  {
   "cell_type": "code",
   "execution_count": 2,
   "id": "bd9bdf0f",
   "metadata": {},
   "outputs": [],
   "source": [
    "question_bank = {\n",
    "    1: [\"What is the capital of India?\", \"Delhi\", [\"Mumbai\", \"Kolkata\", \"Delhi\", \"Chennai\"]],\n",
    "    2: [\"Who is the founder of Microsoft?\", \"Bill Gates\", [\"Mark Zuckerberg\", \"Steve Jobs\", \"Jeff Bezos\", \"Bill Gates\"]],\n",
    "    3: [\"What is the national animal of India?\", \"Tiger\", [\"Lion\", \"Elephant\", \"Tiger\", \"Leopard\"]],\n",
    "    4: [\"What is the currency of Japan?\", \"Yen\", [\"Yuan\", \"Euro\", \"Pound\", \"Yen\"]],\n",
    "    5: [\"Who invented the telephone?\", \"Alexander Graham Bell\", [\"Thomas Edison\", \"Nikola Tesla\", \"Guglielmo Marconi\", \"Alexander Graham Bell\"]]\n",
    "}"
   ]
  },
  {
   "cell_type": "code",
   "execution_count": 3,
   "id": "44fe10e7",
   "metadata": {},
   "outputs": [],
   "source": [
    "prize_money = {\n",
    "    1: 5000,\n",
    "    2: 10000,\n",
    "    3: 20000,\n",
    "    4: 40000,\n",
    "    5: 80000\n",
    "}"
   ]
  },
  {
   "cell_type": "code",
   "execution_count": 4,
   "id": "9b35343c",
   "metadata": {},
   "outputs": [],
   "source": [
    "def start_game():\n",
    "    \"\"\"\n",
    "    Function to start the game and display the first question\n",
    "    \"\"\"\n",
    "    print(\"Welcome to KBC!\")\n",
    "    print(\"You will be asked 5 questions. Each question will have 4 options. Choose the correct option to win the prize money.\")\n",
    "    print(\"You can quit the game any time by entering 'quit' as the answer.\\n\")\n",
    "    question_num = 1\n",
    "    total_money = 0\n",
    "    \n",
    "    while question_num <= 5:\n",
    "        question_data = question_bank[question_num]\n",
    "        print(f\"Question {question_num}: {question_data[0]}\")\n",
    "        random_options = random.sample(question_data[2], len(question_data[2]))\n",
    "        options_str = \"\\n\".join([f\"{i+1}. {opt}\" for i, opt in enumerate(random_options)])\n",
    "        print(options_str)\n",
    "        user_ans = input(\"Enter your answer: \")\n",
    "        \n",
    "        if user_ans == \"quit\":\n",
    "            print(\"You quit the game.\")\n",
    "            break\n",
    "        \n",
    "        if user_ans.lower() == question_data[1].lower():\n",
    "            print(\"Correct!\")\n",
    "            total_money += prize_money[question_num]\n",
    "            print(f\"Your prize money is: Rs. {total_money}\\n\")\n",
    "            question_num += 1\n",
    "        else:\n",
    "            print(\"Wrong answer!\")\n",
    "            print(\"You have won: Rs. 0\")\n",
    "            break\n",
    "    \n",
    "    if question_num == 6:\n",
    "        print(\"Congratulations! You have won the game.\")\n",
    "        print(f\"Your total prize money is: Rs. {total_money}\")"
   ]
  },
  {
   "cell_type": "code",
   "execution_count": 7,
   "id": "29f8b44a",
   "metadata": {},
   "outputs": [
    {
     "name": "stdout",
     "output_type": "stream",
     "text": [
      "Welcome to KBC!\n",
      "You will be asked 5 questions. Each question will have 4 options. Choose the correct option to win the prize money.\n",
      "You can quit the game any time by entering 'quit' as the answer.\n",
      "\n",
      "Question 1: What is the capital of India?\n",
      "1. Kolkata\n",
      "2. Chennai\n",
      "3. Mumbai\n",
      "4. Delhi\n",
      "Enter your answer: Delhi\n",
      "Correct!\n",
      "Your prize money is: Rs. 5000\n",
      "\n",
      "Question 2: Who is the founder of Microsoft?\n",
      "1. Mark Zuckerberg\n",
      "2. Jeff Bezos\n",
      "3. Steve Jobs\n",
      "4. Bill Gates\n",
      "Enter your answer: Bill Gates\n",
      "Correct!\n",
      "Your prize money is: Rs. 15000\n",
      "\n",
      "Question 3: What is the national animal of India?\n",
      "1. Elephant\n",
      "2. Lion\n",
      "3. Tiger\n",
      "4. Leopard\n",
      "Enter your answer: Tiger\n",
      "Correct!\n",
      "Your prize money is: Rs. 35000\n",
      "\n",
      "Question 4: What is the currency of Japan?\n",
      "1. Euro\n",
      "2. Yuan\n",
      "3. Yen\n",
      "4. Pound\n",
      "Enter your answer: Yen\n",
      "Correct!\n",
      "Your prize money is: Rs. 75000\n",
      "\n",
      "Question 5: Who invented the telephone?\n",
      "1. Thomas Edison\n",
      "2. Alexander Graham Bell\n",
      "3. Guglielmo Marconi\n",
      "4. Nikola Tesla\n",
      "Enter your answer: Alexander Graham Bell\n",
      "Correct!\n",
      "Your prize money is: Rs. 155000\n",
      "\n",
      "Congratulations! You have won the game.\n",
      "Your total prize money is: Rs. 155000\n"
     ]
    }
   ],
   "source": [
    "start_game()"
   ]
  },
  {
   "cell_type": "code",
   "execution_count": null,
   "id": "48bf5e62",
   "metadata": {},
   "outputs": [],
   "source": []
  }
 ],
 "metadata": {
  "kernelspec": {
   "display_name": "Python 3 (ipykernel)",
   "language": "python",
   "name": "python3"
  },
  "language_info": {
   "codemirror_mode": {
    "name": "ipython",
    "version": 3
   },
   "file_extension": ".py",
   "mimetype": "text/x-python",
   "name": "python",
   "nbconvert_exporter": "python",
   "pygments_lexer": "ipython3",
   "version": "3.9.13"
  }
 },
 "nbformat": 4,
 "nbformat_minor": 5
}
